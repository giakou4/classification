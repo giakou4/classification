{
  "nbformat": 4,
  "nbformat_minor": 0,
  "metadata": {
    "colab": {
      "name": "MNIST_classification_main_simclr.ipynb",
      "provenance": [],
      "collapsed_sections": [],
      "toc_visible": true
    },
    "kernelspec": {
      "name": "python3",
      "display_name": "Python 3"
    },
    "language_info": {
      "name": "python"
    }
  },
  "cells": [
    {
      "cell_type": "markdown",
      "metadata": {
        "id": "MpXLJZYu1_4j"
      },
      "source": [
        "# Imports"
      ]
    },
    {
      "cell_type": "code",
      "metadata": {
        "id": "2ERHkbgy1ulT"
      },
      "source": [
        "import torch\n",
        "import torch.optim as optim\n",
        "import torch.nn as nn\n",
        "import torch.nn.functional as F\n",
        "\n",
        "from torchvision import datasets, transforms\n",
        "import matplotlib.pyplot as plt\n",
        "import numpy as np"
      ],
      "execution_count": null,
      "outputs": []
    },
    {
      "cell_type": "markdown",
      "metadata": {
        "id": "zjomfTdt18o5"
      },
      "source": [
        "# Utilities"
      ]
    },
    {
      "cell_type": "markdown",
      "metadata": {
        "id": "7dt9H5Nf2vJ-"
      },
      "source": [
        "## Metric Monitor"
      ]
    },
    {
      "cell_type": "code",
      "metadata": {
        "id": "xnyphpqb10fG"
      },
      "source": [
        "from collections import defaultdict\n",
        "\n",
        "class MetricMonitor:\n",
        "    def __init__(self, float_precision=4):\n",
        "        self.float_precision = float_precision\n",
        "        self.reset()\n",
        "\n",
        "    def reset(self):\n",
        "        self.metrics = defaultdict(lambda: {\"val\": 0, \"count\": 0, \"avg\": 0})\n",
        "\n",
        "    def update(self, metric_name, val):\n",
        "        metric = self.metrics[metric_name]\n",
        "\n",
        "        metric[\"val\"] += val\n",
        "        metric[\"count\"] += 1\n",
        "        metric[\"avg\"] = metric[\"val\"] / metric[\"count\"]\n",
        "\n",
        "    def __str__(self):\n",
        "        return \" | \".join(\n",
        "            [\n",
        "                \"{metric_name}: {avg:.{float_precision}f}\".format(\n",
        "                    metric_name=metric_name, avg=metric[\"avg\"], float_precision=self.float_precision\n",
        "                )\n",
        "                for (metric_name, metric) in self.metrics.items()\n",
        "            ]\n",
        "        )"
      ],
      "execution_count": null,
      "outputs": []
    },
    {
      "cell_type": "markdown",
      "metadata": {
        "id": "Sp1tsqfS2z5Z"
      },
      "source": [
        "## Early Stopping\n",
        "Early stops the training if validation loss doesn't improve after a given patience."
      ]
    },
    {
      "cell_type": "code",
      "metadata": {
        "id": "Zh7tkIkK13dQ"
      },
      "source": [
        "class EarlyStopping:\n",
        "    def __init__(self, patience=7, verbose=False, delta=0, path='checkpoint.pt', trace_func=print):\n",
        "        self.patience = patience\n",
        "        self.verbose = verbose\n",
        "        self.counter = 0\n",
        "        self.best_score = None\n",
        "        self.early_stop = False\n",
        "        self.val_loss_min = np.Inf\n",
        "        self.delta = delta\n",
        "        self.path = path\n",
        "        self.trace_func = trace_func\n",
        "    def __call__(self, val_loss, model):\n",
        "\n",
        "        score = -val_loss\n",
        "\n",
        "        if self.best_score is None:\n",
        "            self.best_score = score\n",
        "            self.save_checkpoint(val_loss, model)\n",
        "        elif score < self.best_score + self.delta:\n",
        "            self.counter += 1\n",
        "            self.trace_func(f'> early stopping counter: {self.counter} out of {self.patience}')\n",
        "            if self.counter >= self.patience:\n",
        "                self.early_stop = True\n",
        "        else:\n",
        "            self.best_score = score\n",
        "            self.save_checkpoint(val_loss, model)\n",
        "            self.counter = 0\n",
        "\n",
        "    def save_checkpoint(self, val_loss, model):\n",
        "        '''Saves model when validation loss decrease.'''\n",
        "        if self.verbose:\n",
        "            self.trace_func(f'validation loss decreased ({self.val_loss_min:.6f} --> {val_loss:.6f}).  Saving model ...')\n",
        "        torch.save(model.state_dict(), self.path)\n",
        "        self.val_loss_min = val_loss"
      ],
      "execution_count": null,
      "outputs": []
    },
    {
      "cell_type": "markdown",
      "metadata": {
        "id": "NLtlGGP42-mk"
      },
      "source": [
        "## Two Crop Transform"
      ]
    },
    {
      "cell_type": "code",
      "metadata": {
        "id": "aA92OLnc3AVr"
      },
      "source": [
        "class TwoCropTransform:\n",
        "    \"\"\"Create two crops of the same image\"\"\"\n",
        "    def __init__(self, transform):\n",
        "        self.transform = transform\n",
        "\n",
        "    def __call__(self, x):\n",
        "        return [self.transform(x), self.transform(x)]"
      ],
      "execution_count": null,
      "outputs": []
    },
    {
      "cell_type": "markdown",
      "metadata": {
        "id": "_D9UqHsb3A1v"
      },
      "source": [
        "## Sup Con"
      ]
    },
    {
      "cell_type": "code",
      "metadata": {
        "id": "9i33GBI33C50"
      },
      "source": [
        "class SupCon(nn.Module):\n",
        "    \"\"\"backbone + projection head\"\"\"\n",
        "    def __init__(self, model, head='mlp', feat_dim=128):\n",
        "        super(SupCon, self).__init__()\n",
        "        \n",
        "        self.dim_in = model._to_linear\n",
        "        self.encoder = model\n",
        "        \n",
        "        if head == 'linear':\n",
        "            self.head = nn.Linear(self.dim_in, feat_dim)\n",
        "        elif head == 'mlp':\n",
        "            self.head = nn.Sequential(\n",
        "                nn.Linear(self.dim_in, self.dim_in),\n",
        "                nn.ReLU(inplace=True),\n",
        "                nn.Linear(self.dim_in, feat_dim)\n",
        "            )\n",
        "        else:\n",
        "            raise NotImplementedError('Head not supported: {}'.format(head))\n",
        "\n",
        "    def forward(self, x):\n",
        "        feat = self.encoder(x)\n",
        "        feat = F.normalize(self.head(feat), dim=1)\n",
        "        return feat"
      ],
      "execution_count": null,
      "outputs": []
    },
    {
      "cell_type": "markdown",
      "metadata": {
        "id": "uuPF5SEm3Dc2"
      },
      "source": [
        "## Sup Con Loss\n",
        "Supervised Contrastive Learning: https://arxiv.org/pdf/2004.11362.pdf.  \n",
        "It also supports the unsupervised contrastive loss in SimCLR https://arxiv.org/pdf/2002.05709.pdf"
      ]
    },
    {
      "cell_type": "code",
      "metadata": {
        "id": "WnqxK09x3FLB"
      },
      "source": [
        "\"\"\"\n",
        "Author: Yonglong Tian (yonglong@mit.edu)\n",
        "Date: May 07, 2020\n",
        "\"\"\"\n",
        "from __future__ import print_function\n",
        "\n",
        "import torch\n",
        "import torch.nn as nn\n",
        "\n",
        "\n",
        "class SupConLoss(nn.Module):\n",
        "    def __init__(self, temperature=0.07, contrast_mode='all',\n",
        "                 base_temperature=0.07):\n",
        "        super(SupConLoss, self).__init__()\n",
        "        self.temperature = temperature\n",
        "        self.contrast_mode = contrast_mode\n",
        "        self.base_temperature = base_temperature\n",
        "\n",
        "    def forward(self, features, labels=None, mask=None):\n",
        "        device = (torch.device('cuda')\n",
        "                  if features.is_cuda\n",
        "                  else torch.device('cpu'))\n",
        "\n",
        "        if len(features.shape) < 3:\n",
        "            raise ValueError('`features` needs to be [bsz, n_views, ...],'\n",
        "                             'at least 3 dimensions are required')\n",
        "        if len(features.shape) > 3:\n",
        "            features = features.view(features.shape[0], features.shape[1], -1)\n",
        "\n",
        "        batch_size = features.shape[0]\n",
        "        if labels is not None and mask is not None:\n",
        "            raise ValueError('Cannot define both `labels` and `mask`')\n",
        "        elif labels is None and mask is None:\n",
        "            mask = torch.eye(batch_size, dtype=torch.float32).to(device)\n",
        "        elif labels is not None:\n",
        "            labels = labels.contiguous().view(-1, 1)\n",
        "            if labels.shape[0] != batch_size:\n",
        "                raise ValueError('Num of labels does not match num of features')\n",
        "            mask = torch.eq(labels, labels.T).float().to(device)\n",
        "        else:\n",
        "            mask = mask.float().to(device)\n",
        "\n",
        "        contrast_count = features.shape[1]\n",
        "        contrast_feature = torch.cat(torch.unbind(features, dim=1), dim=0)\n",
        "        if self.contrast_mode == 'one':\n",
        "            anchor_feature = features[:, 0]\n",
        "            anchor_count = 1\n",
        "        elif self.contrast_mode == 'all':\n",
        "            anchor_feature = contrast_feature\n",
        "            anchor_count = contrast_count\n",
        "        else:\n",
        "            raise ValueError('Unknown mode: {}'.format(self.contrast_mode))\n",
        "\n",
        "        # compute logits\n",
        "        anchor_dot_contrast = torch.div(\n",
        "            torch.matmul(anchor_feature, contrast_feature.T),\n",
        "            self.temperature)\n",
        "        # for numerical stability\n",
        "        logits_max, _ = torch.max(anchor_dot_contrast, dim=1, keepdim=True)\n",
        "        logits = anchor_dot_contrast - logits_max.detach()\n",
        "\n",
        "        # tile mask\n",
        "        mask = mask.repeat(anchor_count, contrast_count)\n",
        "        # mask-out self-contrast cases\n",
        "        logits_mask = torch.scatter(\n",
        "            torch.ones_like(mask),\n",
        "            1,\n",
        "            torch.arange(batch_size * anchor_count).view(-1, 1).to(device),\n",
        "            0\n",
        "        )\n",
        "        mask = mask * logits_mask\n",
        "\n",
        "        # compute log_prob\n",
        "        exp_logits = torch.exp(logits) * logits_mask\n",
        "        log_prob = logits - torch.log(exp_logits.sum(1, keepdim=True))\n",
        "\n",
        "        # compute mean of log-likelihood over positive\n",
        "        mean_log_prob_pos = (mask * log_prob).sum(1) / mask.sum(1)\n",
        "\n",
        "        # loss\n",
        "        loss = - (self.temperature / self.base_temperature) * mean_log_prob_pos\n",
        "        loss = loss.view(anchor_count, batch_size).mean()\n",
        "\n",
        "        return loss\n"
      ],
      "execution_count": null,
      "outputs": []
    },
    {
      "cell_type": "markdown",
      "metadata": {
        "id": "htwdrWUS3GQu"
      },
      "source": [
        "## Save Model"
      ]
    },
    {
      "cell_type": "code",
      "metadata": {
        "id": "8SaaWs9w3HqS"
      },
      "source": [
        "def save_model(model, optimizer, epoch, save_file):\n",
        "    print('\\n==> Saving...')\n",
        "    state = {\n",
        "        'model': model.state_dict(),\n",
        "        'optimizer': optimizer.state_dict(),\n",
        "        'epoch': epoch,\n",
        "    }\n",
        "    torch.save(state, save_file)\n",
        "    del state"
      ],
      "execution_count": null,
      "outputs": []
    },
    {
      "cell_type": "markdown",
      "metadata": {
        "id": "13lsLXFQ2CtG"
      },
      "source": [
        "# Main"
      ]
    },
    {
      "cell_type": "markdown",
      "metadata": {
        "id": "DrYrVHEv2L_d"
      },
      "source": [
        "## Model\n",
        "Encoder and Classifier (Linear)"
      ]
    },
    {
      "cell_type": "code",
      "metadata": {
        "id": "VhCOJQS92eTr"
      },
      "source": [
        "class Encoder(torch.nn.Module):\n",
        "    \"Encoder network\"\n",
        "    def __init__(self):\n",
        "        super(Encoder, self).__init__()\n",
        "        # L1 (?, 28, 28, 1) -> (?, 28, 28, 32) -> (?, 14, 14, 32)\n",
        "        self.layer1 = torch.nn.Sequential(\n",
        "            torch.nn.Conv2d(1, 32, kernel_size=3, stride=1, padding=1),\n",
        "            torch.nn.BatchNorm2d(32),\n",
        "            torch.nn.ReLU(),\n",
        "            torch.nn.MaxPool2d(kernel_size=2, stride=2),\n",
        "            torch.nn.Dropout(p=0.2)\n",
        "            )\n",
        "        # L2 (?, 14, 14, 32) -> (?, 14, 14, 64) -> (?, 7, 7, 64)\n",
        "        self.layer2 = torch.nn.Sequential(\n",
        "            torch.nn.Conv2d(32, 64, kernel_size=3, stride=1, padding=1),\n",
        "            torch.nn.BatchNorm2d(64),\n",
        "            torch.nn.ReLU(),\n",
        "            torch.nn.MaxPool2d(kernel_size=2, stride=2),\n",
        "            torch.nn.Dropout(p=0.2)\n",
        "            )\n",
        "        # L3 (?, 7, 7, 64) -> (?, 7, 7, 128) -> (?, 4, 4, 128)\n",
        "        self.layer3 = torch.nn.Sequential(\n",
        "            torch.nn.Conv2d(64, 128, kernel_size=3, stride=1, padding=1),\n",
        "            torch.nn.BatchNorm2d(128),\n",
        "            torch.nn.ReLU(),\n",
        "            torch.nn.MaxPool2d(kernel_size=2, stride=2, padding=1),\n",
        "            torch.nn.Dropout(p=0.2)\n",
        "            )\n",
        "        self._to_linear = 4 * 4 * 128\n",
        "\n",
        "    def forward(self, x):\n",
        "        x = self.layer1(x)\n",
        "        x = self.layer2(x)\n",
        "        x = self.layer3(x)\n",
        "        x = x.view(x.size(0), -1) # Flatten them for FC\n",
        "        return x\n",
        "    \n",
        "\n",
        "class LinearClassifier(torch.nn.Module):\n",
        "    \"\"\"Linear classifier\"\"\"\n",
        "    def __init__(self):\n",
        "        super(LinearClassifier, self).__init__()\n",
        "        self.fc = torch.nn.Sequential(\n",
        "            torch.nn.Linear(4 * 4 * 128, 10),\n",
        "            )\n",
        "\n",
        "    def forward(self, x):\n",
        "        x = self.fc(x)\n",
        "        probs = torch.nn.functional.softmax(x, dim=0)\n",
        "        return probs"
      ],
      "execution_count": null,
      "outputs": []
    },
    {
      "cell_type": "markdown",
      "metadata": {
        "id": "uLFtDthc2R8Z"
      },
      "source": [
        "## Calculate Accuracy"
      ]
    },
    {
      "cell_type": "code",
      "metadata": {
        "id": "KZtARFoQ2hE_"
      },
      "source": [
        "def calculate_accuracy(output, target):\n",
        "    \"Calculates accuracy\"\n",
        "    output = output.data.max(dim=1,keepdim=True)[1]\n",
        "    output = output == 1.0\n",
        "    output = torch.flatten(output)\n",
        "    target = target == 1.0\n",
        "    target = torch.flatten(target)\n",
        "    return torch.true_divide((target == output).sum(dim=0), output.size(0)).item() "
      ],
      "execution_count": null,
      "outputs": []
    },
    {
      "cell_type": "markdown",
      "metadata": {
        "id": "cRtcShmV2WvX"
      },
      "source": [
        "## Pre-Training"
      ]
    },
    {
      "cell_type": "code",
      "metadata": {
        "id": "VWJL-DyW2j5g"
      },
      "source": [
        "def pretraining(epoch, model, contrastive_loader, optimizer, criterion, method='SimCLR'):\n",
        "    \"Contrastive pre-training over an epoch\"\n",
        "    metric_monitor = MetricMonitor()\n",
        "    model.train()\n",
        "    for batch_idx, (data,labels) in enumerate(contrastive_loader):\n",
        "        data = torch.cat([data[0], data[1]], dim=0)\n",
        "        if torch.cuda.is_available():\n",
        "            data,labels = data.cuda(), labels.cuda()\n",
        "        data, labels = torch.autograd.Variable(data,False), torch.autograd.Variable(labels)\n",
        "        bsz = labels.shape[0]\n",
        "        features = model(data)\n",
        "        f1, f2 = torch.split(features, [bsz, bsz], dim=0)\n",
        "        features = torch.cat([f1.unsqueeze(1), f2.unsqueeze(1)], dim=1)\n",
        "        if method == 'SupCon':\n",
        "            loss = criterion(features, labels)\n",
        "        elif method == 'SimCLR':\n",
        "            loss = criterion(features)\n",
        "        else:\n",
        "            raise ValueError('contrastive method not supported: {}'.format(method))\n",
        "        metric_monitor.update(\"Loss\", loss.item())\n",
        "        metric_monitor.update(\"Learning Rate\", optimizer.param_groups[0]['lr'])\n",
        "        optimizer.zero_grad()\n",
        "        loss.backward()\n",
        "        optimizer.step()\n",
        "    print(\"[Epoch: {epoch:03d}] Contrastive Pre-train | {metric_monitor}\".format(epoch=epoch, metric_monitor=metric_monitor))\n",
        "    return metric_monitor.metrics['Loss']['avg'], metric_monitor.metrics['Learning Rate']['avg']"
      ],
      "execution_count": null,
      "outputs": []
    },
    {
      "cell_type": "markdown",
      "metadata": {
        "id": "mTEqEQpS2W_k"
      },
      "source": [
        "## Training"
      ]
    },
    {
      "cell_type": "code",
      "metadata": {
        "id": "nHCnAbSV2kj6"
      },
      "source": [
        "def training(epoch, model, classifier, train_loader, optimizer, criterion):\n",
        "    \"Training over an epoch\"\n",
        "    metric_monitor = MetricMonitor()\n",
        "    model.eval()\n",
        "    classifier.train()\n",
        "    for batch_idx, (data,labels) in enumerate(train_loader):\n",
        "        if torch.cuda.is_available():\n",
        "            data,labels = data.cuda(), labels.cuda()\n",
        "        data, labels = torch.autograd.Variable(data,False), torch.autograd.Variable(labels)\n",
        "        with torch.no_grad():\n",
        "            features = model.encoder(data)\n",
        "        output = classifier(features.float())\n",
        "        loss = criterion(output, labels) \n",
        "        accuracy = calculate_accuracy(output, labels)\n",
        "        metric_monitor.update(\"Loss\", loss.item())\n",
        "        metric_monitor.update(\"Accuracy\", accuracy)\n",
        "        data.detach()\n",
        "        labels.detach()\n",
        "        optimizer.zero_grad()\n",
        "        loss.backward()\n",
        "        optimizer.step()\n",
        "    print(\"[Epoch: {epoch:03d}] Train      | {metric_monitor}\".format(epoch=epoch, metric_monitor=metric_monitor))\n",
        "    return metric_monitor.metrics['Loss']['avg'], metric_monitor.metrics['Accuracy']['avg']"
      ],
      "execution_count": null,
      "outputs": []
    },
    {
      "cell_type": "markdown",
      "metadata": {
        "id": "abiLjLhf3yQK"
      },
      "source": [
        "# Validation"
      ]
    },
    {
      "cell_type": "code",
      "metadata": {
        "id": "XF9NIV7T3zrR"
      },
      "source": [
        "def validation(epoch, model, classifier, valid_loader, criterion):\n",
        "    \"Validation over an epoch\"\n",
        "    metric_monitor = MetricMonitor()\n",
        "    model.eval()\n",
        "    classifier.eval()\n",
        "    with torch.no_grad():\n",
        "        for batch_idx, (data,labels) in enumerate(valid_loader):\n",
        "            if torch.cuda.is_available():\n",
        "                data,labels = data.cuda(), labels.cuda()\n",
        "            data, labels = torch.autograd.Variable(data,False), torch.autograd.Variable(labels)\n",
        "            features = model.encoder(data)\n",
        "            output = classifier(features.float())\n",
        "            loss = criterion(output,labels) \n",
        "            accuracy = calculate_accuracy(output, labels)\n",
        "            metric_monitor.update(\"Loss\", loss.item())\n",
        "            metric_monitor.update(\"Accuracy\", accuracy)\n",
        "            data.detach()\n",
        "            labels.detach()\n",
        "    print(\"[Epoch: {epoch:03d}] Validation | {metric_monitor}\".format(epoch=epoch, metric_monitor=metric_monitor))\n",
        "    return metric_monitor.metrics['Loss']['avg'], metric_monitor.metrics['Accuracy']['avg']"
      ],
      "execution_count": null,
      "outputs": []
    },
    {
      "cell_type": "markdown",
      "metadata": {
        "id": "5HUFJyf02aYV"
      },
      "source": [
        "# Main"
      ]
    },
    {
      "cell_type": "code",
      "metadata": {
        "id": "n5XDfwlD2loD"
      },
      "source": [
        "def main():\n",
        "    \n",
        "    num_epochs = 100\n",
        "    use_early_stopping = True\n",
        "    use_scheduler = True\n",
        "    head_type = 'mlp' # choose among 'mlp' and 'linear'\n",
        "    save_file = os.path.join('./results/', 'model.pth')\n",
        "    if not os.path.isdir('./results/'):\n",
        "         os.makedirs('./results/')\n",
        "    \n",
        "    contrastive_transform = transforms.Compose([\n",
        "                                       transforms.RandomHorizontalFlip(),\n",
        "                                       transforms.RandomResizedCrop(size=28, scale=(0.2, 1.)),\n",
        "                                       transforms.ToTensor(),\n",
        "                                       transforms.Normalize((0.5,), (0.5,)),\n",
        "                                       ])\n",
        "    train_transform = transforms.Compose([\n",
        "                                       transforms.RandomHorizontalFlip(),\n",
        "                                       transforms.ToTensor(),\n",
        "                                       transforms.Normalize((0.5,), (0.5,)),\n",
        "                                       ])\n",
        "    valid_transform = transforms.Compose([\n",
        "                                       transforms.ToTensor(),\n",
        "                                       transforms.Normalize((0.5,), (0.5,)),\n",
        "                                       ])\n",
        "    \n",
        "    contrastive_set = datasets.MNIST('./data', download=True, train=True, transform=TwoCropTransform(contrastive_transform))\n",
        "    train_set = datasets.MNIST('./data', download=True, train=True, transform=train_transform)\n",
        "    valid_set = datasets.MNIST('./data', download=True, train=False, transform=valid_transform)\n",
        "    \n",
        "    contrastive_loader = torch.utils.data.DataLoader(contrastive_set, batch_size=64, shuffle=True)\n",
        "    train_loader = torch.utils.data.DataLoader(train_set, batch_size=64, shuffle=True)\n",
        "    valid_loader = torch.utils.data.DataLoader(valid_set, batch_size=64, shuffle=True)\n",
        "    \n",
        "    # Part 1\n",
        "    encoder = Encoder()\n",
        "    model = SupCon(encoder, head=head_type, feat_dim=128)\n",
        "    criterion = SupConLoss(temperature=0.07)\n",
        "    if torch.cuda.is_available():\n",
        "        model = model.cuda()\n",
        "        criterion = criterion.cuda()   \n",
        "    optimizer = torch.optim.Adam(model.parameters(), lr=1e-3, betas=(0.9, 0.999), eps=1e-08, weight_decay=1e-3)\n",
        "    scheduler = torch.optim.lr_scheduler.StepLR(optimizer, step_size=20, gamma=0.9)\n",
        "\n",
        "    contrastive_loss, contrastive_lr = [], []\n",
        "    \n",
        "    for epoch in range(1, num_epochs+1):\n",
        "        loss, lr = pretraining(epoch, model, contrastive_loader, optimizer, criterion, method='SimCLR')\n",
        "        if use_scheduler:\n",
        "            scheduler.step()\n",
        "        contrastive_loss.append(loss)\n",
        "        contrastive_lr.append(lr)\n",
        "    \n",
        "    save_model(model, optimizer, num_epochs, save_file)\n",
        "    \n",
        "    plt.plot(range(1,len(contrastive_lr)+1),contrastive_lr, color='b', label = 'learning rate')\n",
        "    plt.legend(), plt.ylabel('loss'), plt.xlabel('epochs'), plt.title('Learning Rate'), plt.show()\n",
        "    \n",
        "    plt.plot(range(1,len(contrastive_loss)+1),contrastive_loss, color='b', label = 'loss')\n",
        "    plt.legend(), plt.ylabel('loss'), plt.xlabel('epochs'), plt.title('Loss'), plt.show()\n",
        "    \n",
        "    # Part 2\n",
        "    model = SupCon(encoder, head=head_type, feat_dim=128)\n",
        "    classifier = LinearClassifier()\n",
        "    criterion = torch.nn.CrossEntropyLoss()\n",
        "    \n",
        "    ckpt = torch.load(save_file, map_location='cpu')\n",
        "    state_dict = ckpt['model']\n",
        "    new_state_dict = {}\n",
        "    for k, v in state_dict.items():\n",
        "        k = k.replace(\"module.\", \"\")\n",
        "        new_state_dict[k] = v\n",
        "    state_dict = new_state_dict\n",
        "    model.load_state_dict(state_dict)\n",
        "    \n",
        "    if torch.cuda.is_available():\n",
        "        model = model.cuda()\n",
        "        classifier = classifier.cuda()\n",
        "        criterion = criterion.cuda()\n",
        "    \n",
        "    train_losses , train_accuracies = [],[]\n",
        "    valid_losses , valid_accuracies = [],[]\n",
        "    \n",
        "    if use_early_stopping:\n",
        "        early_stopping = EarlyStopping(patience=30, verbose=False, delta=1e-4)\n",
        " \n",
        "    for epoch in range(1, num_epochs+1):\n",
        "        \n",
        "        train_loss, train_accuracy = training(epoch, model, classifier, train_loader, optimizer, criterion)\n",
        "        valid_loss, valid_accuracy = validation(epoch, model, classifier, valid_loader, criterion)\n",
        "        \n",
        "        if use_scheduler:\n",
        "            scheduler.step()\n",
        "            \n",
        "        train_losses.append(train_loss)\n",
        "        train_accuracies.append(train_accuracy)\n",
        "        valid_losses.append(valid_loss)\n",
        "        valid_accuracies.append(valid_accuracy)\n",
        "             \n",
        "        if use_early_stopping: \n",
        "            early_stopping(valid_loss, model)\n",
        "            \n",
        "            if early_stopping.early_stop:\n",
        "                print('Early stopping at epoch', epoch)\n",
        "                #model.load_state_dict(torch.load('checkpoint.pt'))\n",
        "                break\n",
        "     \n",
        "    plt.plot(range(1,len(train_losses)+1), train_losses, color='b', label = 'training loss')\n",
        "    plt.plot(range(1,len(valid_losses)+1), valid_losses, color='r', linestyle='dashed', label = 'validation loss')\n",
        "    plt.legend(), plt.ylabel('loss'), plt.xlabel('epochs'), plt.title('Loss'), plt.show()\n",
        "     \n",
        "    plt.plot(range(1,len(train_accuracies)+1),train_accuracies, color='b', label = 'training accuracy')\n",
        "    plt.plot(range(1,len(valid_accuracies)+1),valid_accuracies, color='r', linestyle='dashed', label = 'validation accuracy')\n",
        "    plt.legend(), plt.ylabel('loss'), plt.xlabel('epochs'), plt.title('Accuracy'), plt.show()"
      ],
      "execution_count": null,
      "outputs": []
    },
    {
      "cell_type": "code",
      "metadata": {
        "id": "PTxkyIgK2n2M"
      },
      "source": [
        "main()"
      ],
      "execution_count": null,
      "outputs": []
    }
  ]
}